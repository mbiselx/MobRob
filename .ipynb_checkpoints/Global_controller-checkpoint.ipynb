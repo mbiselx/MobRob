{
 "cells": [
  {
   "cell_type": "markdown",
   "metadata": {},
   "source": [
    "# Theory \n",
    "\n",
    "## Localization\n",
    "\n",
    "Once the path planning has been done, we need to get the Thymio robot to follow the planned path.\n",
    "We do so by implementing a pilot, which uses knowledge of the robot's location relative to its next goal to calculate the motor inputs necessary to reach this goal. \n",
    "\n",
    "Unfortunately, the robot does not always have perfect knowledge of its position at all times, so it must be estimated from the limited measurements it does have access to, namely\n",
    "- motor odometry\n",
    "- ground IR sensors \n",
    "- horizontal proximity sensors\n",
    "\n",
    "Because both the movement process and these measurements are quite noisy, simply dead reckoning the robot's position is not accurate enough. We need to implement a stochasitc state estimator to try to estimate the robot's position from the noisy measurements."
   ]
  },
  {
   "cell_type": "markdown",
   "metadata": {},
   "source": [
    "> <img src=\"./imgs/control-Page-1.png\" />\n",
    "\n",
    "> *Figure 1: Control diagram of the robot and pilot*"
   ]
  },
  {
   "cell_type": "markdown",
   "metadata": {},
   "source": [
    "### Estimator\n",
    "A number of stochastic estimation methods exist. The approach chosen in this project, the Kalman Filter, is computationally one of the simplest. It was chosen in the hopes of making the system more reactive. The Kalman filter is normally used for systems with linear behavior, but it can relatively easily be extended to non-linear systems that do not vary too abruptly:\n",
    "$$ \\begin{eqnarray}\n",
    "\\bar{\\mathbf x} &=& g(\\hat{\\mathbf x}, \\mathbf u)\\\\\n",
    "\\bar{s} &=& G_{\\mathbf x,\\mathbf u}\\cdot s\\cdot G_{\\mathbf x,\\mathbf u}^T\\\\\n",
    "K       &=& \\bar{s}\\cdot C^T\\cdot (C\\cdot\\bar{s}\\cdot C^T + R)^{-1}\\\\\n",
    "\\hat{\\mathbf x} &=& \\bar{\\mathbf x} + K(\\mathbf y-C\\bar{\\mathbf x})\\\\\n",
    "s       &=& (I - K C)\\cdot \\bar{s}\n",
    "\\end{eqnarray}$$"
   ]
  },
  {
   "cell_type": "markdown",
   "metadata": {},
   "source": [
    "### Control Signal\n",
    "The Thymio robot may be controlled throught its two motors. Our control signal $\\mathbf u$ will therefore be : \n",
    "$$ \\mathbf u = \\begin{bmatrix} u_r\\\\ u_l \\end{bmatrix}$$\n",
    "\n",
    "### State \n",
    "The state of the robot $\\mathbf x$ is defined as follows :\n",
    "$$ \\mathbf{x} = \\begin{bmatrix}x\\\\ y \\\\ \\phi \\\\ v_r \\\\ v_l\\end{bmatrix}$$\n",
    "where $[x , y]^T$ are the robot's position in space, $\\phi$ is its angular orientation with respect to the x-axis, and $[v_r , v_l]^T$ are the speed on the right and left wheels, respectively. "
   ]
  },
  {
   "cell_type": "markdown",
   "metadata": {},
   "source": [
    "> <img src=\"./imgs/control-Page-2.png\" style=\"width: 400px;\"/>\n",
    "\n",
    "> *Figure 2: definition of the robot pose*"
   ]
  },
  {
   "cell_type": "markdown",
   "metadata": {},
   "source": [
    "### Motion Model\n",
    "To apply the extended Kalman Filter, we need to define a motion model $\\mathbf x^{+} = g(\\mathbf{x,u})$. \n",
    "The simplest motion model for a robot such as the Thymio can be calculated in two steps. First, the intermediary values describing the change in angle and in distance are calculated:  \n",
    "$$ \\begin{bmatrix}dl\\\\ d\\phi\\end{bmatrix} = B\\cdot \\mathbf u$$ \n",
    "\n",
    "for $B=c \\cdot T_s\\begin{pmatrix} 0.5 & 0.5 \\\\  \\frac{1}{d} & -\\frac{1}{d} \\end{pmatrix}$, where $T_s$ is the sample time and $d$ is the distance between the wheels. $c$ is a conversion constant to convert between Thymio speed and $mm/s$. \n",
    "Then the actual states may then be approximated as:\n",
    "$$\\begin{eqnarray}\n",
    "\\phi^{+} &=& \\phi + d\\phi\\\\\n",
    "x^{+}    &=& x + dl \\cdot cos(\\phi^{+})\\\\\n",
    "y^{+}    &=& y + dl \\cdot sin(\\phi^{+})\\\\\n",
    "v_r^{+}  &=& u_r\\\\\n",
    "v_l^{+}  &=& u_l\n",
    "\\end{eqnarray}$$\n",
    "\n",
    "In order to linearize the motion model for use in the Kalman filter, we must calculate its Jacobian: $$G_{\\mathbf{x,u}} = \\begin{bmatrix} \n",
    "\\frac{\\partial g}{\\partial x}(\\mathbf{x,u}) &\n",
    "\\frac{\\partial g}{\\partial y}(\\mathbf{x,u}) & \n",
    "\\frac{\\partial g}{\\partial \\phi}(\\mathbf{x,u}) & \n",
    "\\frac{\\partial g}{\\partial v_r}(\\mathbf{x,u}) & \n",
    "\\frac{\\partial g}{\\partial v_l}(\\mathbf{x,u}) \n",
    "\\end{bmatrix}$$\n",
    "\n",
    "This can be done analytically, but it is too tedious for this report. The result can be found in the code in the file Robot.py.\n",
    "\n",
    "Finally, we must estimate the uncertainty added by an update step of the motion process. We can measure the uncertainty on the motion process by wheel, which gives us $\\mathbf{q} = \\begin{bmatrix} q_r \\\\ q_l \\end{bmatrix}$ resulting in a coviariance matrix $Q_{\\mathbf u}$ with diagonal $\\mathbf{q}$.\n",
    "We can then apply the propagation of covariance formula though the linearized system (the Jacobian $G_{\\mathbf{x,u}}$) in order to estimate the uncertainty on the robot state gained due to noise for a single process step:\n",
    "$$ Q = G_{\\mathbf{x,u}} \\begin{pmatrix} \\mathbf 0 & 0 \\\\ 0& Q_{\\mathbf{u}}\\end{pmatrix} G_{\\mathbf {x,u}}^T$$\n",
    "**Note:** This is in fact illegal. The real probablity density of the error added to the robot's state is highly non-linear. It follows a banana-shape, as the anguar uncertainty is much larger than the distance uncertainty. However, it was estimate(d) that the robot would have ample chance to localize itself and thus reduce the uncertainty to a level where the non-linearity doesn't matter as much.\n"
   ]
  },
  {
   "cell_type": "markdown",
   "metadata": {},
   "source": [
    "### Sensor interpretation \n",
    "\n",
    "As mentioned above, the robot has access to several sensors which give it information about the world surrounding it. \n",
    "In our application, the sensors available to us do not allow a reversible mapping into state-space (i.e: the sensor function $\\mathbf y = h(\\mathbf x)$ is non-invertible). This is because the map is made up of a repeating grid, so we have no information on the absolute localization, and furthermore from the pont of view of the sensor, there is no way to tell whether the detected line is horizontal or vertical.\n",
    "We must therefore do a preprocessing step on the raw sensor values to put them into a useable form for our (over)extended Kalman estimator.\n",
    "\n",
    "A first approach was, whenever a line was detected by a sensor to simply take the coordinate of the closest gridline to the estimated position of that sensor as the \"measured value\" $\\tilde{\\mathbf y}$. This approach however does not take into account the fact that the estimated postion of the robot can be quite uncertain, so the returned \"measured values\" are very often wrong.\n",
    "\n",
    "A different approach is to incorporate our estimated uncertainty into the sensor interpretation. Instead of looking for the closest gridline, we look for the most likely coordinates in which we could encounter a gridline, as shown in figure 3 below. These are then taken as $\\tilde{\\mathbf y}$.\n",
    "This approach was adapted from : https://www.cs.cmu.edu/~motionplanning/papers/sbp_papers/integrated2/machler_grid_odometry.pdf\n",
    "\n"
   ]
  },
  {
   "cell_type": "markdown",
   "metadata": {},
   "source": [
    "> <img src=\"./imgs/pdf-based_lacation_estimate.png\" alt=\"pdf-based_lacation_estimate\" style=\"width: 400px;\"/>\n",
    "\n",
    "> *Figure 3 : PDF-based location estimation. The real position of the sensor in space is unkown, so it is modelled as multivariate gaussian probability density function. When a gridline is encountered, we can calculate the position on the gridlines with the highest probablilty, and take this as our new position estimate.*"
   ]
  },
  {
   "cell_type": "markdown",
   "metadata": {},
   "source": [
    "# Application"
   ]
  },
  {
   "cell_type": "markdown",
   "metadata": {},
   "source": [
    "## Get Parameters\n",
    "\n",
    "Before running simulations and using the robot, we must measure the robot's physical parameters. \n",
    "This will be done in this first section.\n",
    "\n",
    "The parameter which must be measured are : \n",
    "- $\\mathbf r$ : variance of the measurement noise on the motors \n",
    "- $\\mathbf q$ : variance of the process noise on the motors\n",
    "\n",
    "### Setup"
   ]
  },
  {
   "cell_type": "code",
   "execution_count": null,
   "metadata": {},
   "outputs": [],
   "source": [
    "import os\n",
    "import sys\n",
    "import time\n",
    "import serial\n",
    "from enum import Enum\n",
    "import matplotlib.pyplot as plt\n",
    "from scipy.interpolate import interp1d\n",
    "import math\n",
    "import numpy as np\n",
    "from threading import Timer\n",
    "\n",
    "# Adding the src folder in the current directory as it contains \n",
    "# the necessary scripts\n",
    "sys.path.insert(0, os.path.join(os.getcwd(), 'src'))\n",
    "\n",
    "from Thymio import Thymio\n",
    "import Field\n",
    "import Robot\n",
    "import util"
   ]
  },
  {
   "cell_type": "code",
   "execution_count": null,
   "metadata": {},
   "outputs": [],
   "source": [
    "# TODO : everything"
   ]
  },
  {
   "cell_type": "markdown",
   "metadata": {},
   "source": [
    "## Simulation \n",
    "\n",
    "To check that our algorithm has at least a chance of working, we will demontrate it in a simulation.\n",
    "\n",
    "### Setup"
   ]
  },
  {
   "cell_type": "code",
   "execution_count": 1,
   "metadata": {},
   "outputs": [],
   "source": [
    "import os\n",
    "import sys\n",
    "import matplotlib.pyplot as plt\n",
    "from scipy.interpolate import interp1d\n",
    "import numpy as np\n",
    "\n",
    "# Adding the src folder in the current directory as it contains \n",
    "# the necessary scripts\n",
    "sys.path.insert(0, os.path.join(os.getcwd(), 'src'))\n",
    "\n",
    "import Field\n",
    "import Robot\n",
    "import util"
   ]
  },
  {
   "cell_type": "code",
   "execution_count": 2,
   "metadata": {},
   "outputs": [],
   "source": [
    "startpos   = np.array([[300], [300], [np.pi/4], [0], [0]]);\n",
    "starterr   = np.array([[10], [10], [0.1], [10], [10]]) * np.random.randn(5,1)\n",
    "\n",
    "field      = Field.NewField(1200, 800, 200, 4)                                  # table\n",
    "\n",
    "robot      = Robot.NewRobot()                                                   # robit\n",
    "\n",
    "field.goals= [[500, 300], [700, 700], [1100, 100], [300, 500], [1100, 100]]            # set a bunch of random goals\n",
    "#field.goals = np.array([[500, 300], [700, 700], [1100, 100], [300, 500]]).T             # set a bunch of predefined goals\n"
   ]
  },
  {
   "cell_type": "markdown",
   "metadata": {},
   "source": [
    "### Run Simulation"
   ]
  },
  {
   "cell_type": "code",
   "execution_count": 3,
   "metadata": {},
   "outputs": [
    {
     "name": "stdout",
     "output_type": "stream",
     "text": [
      "[[500, 300], [700, 700], [1100, 100], [300, 500], [1100, 100]]\n",
      "arrived\n",
      "Help, I'm lost. Cheating\n",
      "arrived\n",
      "arrived\n",
      "949\n",
      "-----\n",
      "\n"
     ]
    }
   ],
   "source": [
    "robot.x    = startpos.copy()\n",
    "robot.xhat = startpos + starterr\n",
    "robot.xodo = robot.xhat.copy()\n",
    "robot.s    = np.diag([25, 25, .5, 20, 20])**2;\n",
    "\n",
    "field.xreal = robot.x.copy()                                                    # prepare record of (mis)deeds\n",
    "field.xhat  = robot.xhat.copy()\n",
    "field.xodo  = robot.xodo.copy()\n",
    "field.s     = [2*np.sqrt(50+50)]\n",
    "\n",
    "sensor_data = robot.simulate_measure(field)\n",
    "goals       = field.goals.copy()\n",
    "\n",
    "arrived = False\n",
    "cnt = 0\n",
    "print(goals)\n",
    "while goals and (cnt < 2000):\n",
    "    cnt = cnt +1;\n",
    "    prev_sensor_data = sensor_data\n",
    "\n",
    "    u = robot.pilot(goals)\n",
    "\n",
    "    x = robot.simulate_motion(u, np.array([4, 4])).copy()\n",
    "    sensor_data = robot.simulate_measure(field, np.array([4, 4]))\n",
    "\n",
    "    y = robot.sensor_interpretation(sensor_data, field)\n",
    "    xtemp, stemp = robot.kalman_estimator(u, y)\n",
    "\n",
    "    dist = np.linalg.norm(np.array([field.xhat[0:2,-1]]).T-xtemp[0:2])\n",
    "    if dist > 10 :\n",
    "        print(\"Help, I'm lost. Cheating\")\n",
    "        xtemp = robot.x + np.array([[2], [2], [0.1], [10], [10]]) * np.random.randn(5,1);\n",
    "        stemp = np.diag([10, 10, .2, 10, 10])**2;\n",
    "        robot.xhat = xtemp.copy()\n",
    "        robot.s    = stemp.copy()\n",
    "        \n",
    "    robot.xodo = robot.motion_model(robot.xodo, u) #make a purely odometry-based estimate, for comparison\n",
    "    \n",
    "    field.xreal = np.concatenate((field.xreal,x), axis=1)\n",
    "    field.xhat  = np.concatenate((field.xhat, xtemp), axis=1)\n",
    "    field.xodo  = np.concatenate((field.xodo, robot.xodo), axis=1)\n",
    "    field.s.append(2*np.sqrt(stemp[0,0]+stemp[1,1]))\n",
    "    \n",
    "\n",
    "print(cnt)\n",
    "print(\"-----\\n\")\n"
   ]
  },
  {
   "cell_type": "markdown",
   "metadata": {},
   "source": [
    "### Plot Simulation Results"
   ]
  },
  {
   "cell_type": "code",
   "execution_count": 4,
   "metadata": {},
   "outputs": [
    {
     "data": {
      "image/png": "[encoded data removed]",
      "text/plain": [
       "<Figure size 864x576 with 1 Axes>"
      ]
     },
     "metadata": {
      "needs_background": "light"
     },
     "output_type": "display_data"
    }
   ],
   "source": [
    "field.s = np.array(field.s)\n",
    "\n",
    "fig, ax = plt.subplots()\n",
    "fig.set_size_inches(12,8)\n",
    "\n",
    "field.plot()\n",
    "\n",
    "plt.show()"
   ]
  },
  {
   "cell_type": "markdown",
   "metadata": {},
   "source": [
    "## Real-Life Test\n",
    "\n",
    "Simulations are all very well, but what truely matters is how the robot performs in reality.\n",
    "\n",
    "### Setup"
   ]
  },
  {
   "cell_type": "code",
   "execution_count": 5,
   "metadata": {},
   "outputs": [],
   "source": [
    "import os\n",
    "import sys\n",
    "import time\n",
    "import serial\n",
    "from enum import Enum\n",
    "import matplotlib.pylab as plt\n",
    "from scipy.interpolate import interp1d\n",
    "import math\n",
    "import numpy as np\n",
    "from threading import Timer\n",
    "from IPython import display\n",
    "\n",
    "# Adding the src folder in the current directory as it contains \n",
    "# the necessary scripts\n",
    "sys.path.insert(0, os.path.join(os.getcwd(), 'src'))\n",
    "\n",
    "from Thymio import Thymio\n",
    "import Field\n",
    "import Robot\n",
    "import util"
   ]
  },
  {
   "cell_type": "code",
   "execution_count": 6,
   "metadata": {},
   "outputs": [],
   "source": [
    "class RepeatedTimer(object):\n",
    "    def __init__(self, interval, function, *args, **kwargs):\n",
    "        self._timer     = None\n",
    "        self.interval   = interval\n",
    "        self.function   = function\n",
    "        self.args       = args\n",
    "        self.kwargs     = kwargs\n",
    "        self.is_running = False\n",
    "        self.start()\n",
    "\n",
    "    def _run(self):\n",
    "        self.is_running = False\n",
    "        self.start()\n",
    "        self.function(*self.args, **self.kwargs)\n",
    "\n",
    "    def start(self):\n",
    "        if not self.is_running:\n",
    "            self._timer = Timer(self.interval, self._run)\n",
    "            self._timer.start()\n",
    "            self.is_running = True\n",
    "\n",
    "    def stop(self):\n",
    "        self._timer.cancel()\n",
    "        self.is_running = False"
   ]
  },
  {
   "cell_type": "code",
   "execution_count": null,
   "metadata": {},
   "outputs": [],
   "source": [
    "robot      = Robot.NewRobot()                                                   # robot \n",
    "field      = Field.NewField(1200, 800, 200, 4)                                  # table\n",
    "\n",
    "field.goals= [[500, 300], [700, 700], [1100, 100], [300, 500], [700, 700], [1100, 100]]     # set a bunch of goals\n",
    "startpos   = np.array([[300], [300], [np.pi/4], [0], [0]]);"
   ]
  },
  {
   "cell_type": "code",
   "execution_count": null,
   "metadata": {},
   "outputs": [],
   "source": [
    "robot.th   = Thymio.serial(port=\"COM15\", refreshing_rate=0.1)                   # Thymio serial communication "
   ]
  },
  {
   "cell_type": "markdown",
   "metadata": {},
   "source": [
    "### Run Test"
   ]
  },
  {
   "cell_type": "code",
   "execution_count": null,
   "metadata": {},
   "outputs": [],
   "source": [
    "def test_step(field, robot, goals):\n",
    "    \n",
    "        u = robot.pilot(goals)\n",
    "\n",
    "        robot.do_motion(u)\n",
    "        \n",
    "        #time.sleep(robot.Ts)\n",
    "        #robot.do_motion(np.zeros((2,1)))\n",
    "        sensor_data = robot.do_measure()\n",
    "\n",
    "        y = robot.sensor_interpretation(sensor_data, field)\n",
    "        xtemp, stemp = robot.kalman_estimator(u, y)\n",
    "                \n",
    "        dist = np.linalg.norm(np.array([field.xhat[0:2,-1]]).T-xtemp[0:2])\n",
    "        if dist > 10 :\n",
    "            print(\"Help, I'm lost. Cheating\")\n",
    "            #xtemp = get_robot_pos_from_vision();\n",
    "            stemp = np.diag([10, 10, .2, 10, 10])**2;\n",
    "            robot.xhat = xtemp.copy()\n",
    "            robot.s    = stemp.copy()\n",
    "            \n",
    "        robot.xodo = robot.motion_model(robot.xodo, u) #make a purely odometry-based estimate, for comparison\n",
    "        \n",
    "        field.xhat  = np.concatenate((field.xhat, xtemp), axis=1)\n",
    "        field.xodo  = np.concatenate((field.xodo, robot.xodo), axis=1)\n",
    "        field.s.append(2*np.sqrt(stemp[0,0]+stemp[1,1]))\n",
    "        "
   ]
  },
  {
   "cell_type": "code",
   "execution_count": null,
   "metadata": {},
   "outputs": [],
   "source": [
    "robot.xhat = startpos.copy()\n",
    "robot.xodo = startpos.copy()\n",
    "robot.s    = np.diag([25, 25, .5, 20, 20])**2\n",
    "\n",
    "field.xreal = robot.x.copy()                                                    # prepare record of (mis)deeds\n",
    "field.xhat  = robot.xhat.copy()\n",
    "field.xodo  = robot.xodo.copy()\n",
    "field.s     = [2*np.sqrt(50+50)]\n",
    "\n",
    "goals = field.goals.copy()\n",
    "\n",
    "robot.maxv=10\n",
    "\n",
    "print(goals)\n",
    "\n",
    "rt = RepeatedTimer(.1, test_step, field, robot, goals);\n",
    "\n",
    "try:\n",
    "    print(\"Starting Run\")  \n",
    "    for i in range(20):\n",
    "        time.sleep(1) \n",
    "        plt.clf();\n",
    "        plt.gcf().set_size_inches(9,6)\n",
    "        field.plot()\n",
    "        display.display(plt.gcf())\n",
    "        display.clear_output(wait=True)\n",
    "\n",
    "finally:\n",
    "    rt.stop();\n",
    "    robot.do_motion(np.zeros((2,1)));\n",
    "    print(\"Donezo\");"
   ]
  },
  {
   "cell_type": "code",
   "execution_count": null,
   "metadata": {},
   "outputs": [],
   "source": [
    "robot.do_motion(np.zeros((2,1)))\n",
    "robot.th.close()"
   ]
  },
  {
   "cell_type": "code",
   "execution_count": null,
   "metadata": {},
   "outputs": [],
   "source": []
  },
  {
   "cell_type": "markdown",
   "metadata": {},
   "source": [
    "### Plot Results"
   ]
  },
  {
   "cell_type": "code",
   "execution_count": null,
   "metadata": {
    "scrolled": true
   },
   "outputs": [],
   "source": [
    "fig, ax = plt.subplots()\n",
    "fig.set_size_inches(9,6)\n",
    "\n",
    "field.plot()\n",
    "\n",
    "plt.show()"
   ]
  },
  {
   "cell_type": "code",
   "execution_count": null,
   "metadata": {},
   "outputs": [],
   "source": []
  }
 ],
 "metadata": {
  "kernelspec": {
   "display_name": "Python 3",
   "language": "python",
   "name": "python3"
  },
  "language_info": {
   "codemirror_mode": {
    "name": "ipython",
    "version": 3
   },
   "file_extension": ".py",
   "mimetype": "text/x-python",
   "name": "python",
   "nbconvert_exporter": "python",
   "pygments_lexer": "ipython3",
   "version": "3.8.5"
  },
  "toc": {
   "base_numbering": 1,
   "nav_menu": {},
   "number_sections": true,
   "sideBar": true,
   "skip_h1_title": false,
   "title_cell": "Table of Contents",
   "title_sidebar": "Contents",
   "toc_cell": false,
   "toc_position": {},
   "toc_section_display": true,
   "toc_window_display": false
  }
 },
 "nbformat": 4,
 "nbformat_minor": 4
}
